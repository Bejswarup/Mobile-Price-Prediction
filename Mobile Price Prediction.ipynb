{
 "cells": [
  {
   "cell_type": "code",
   "execution_count": 1,
   "id": "81f1fd0b",
   "metadata": {},
   "outputs": [],
   "source": [
    "import pandas as pd"
   ]
  },
  {
   "cell_type": "markdown",
   "id": "03baccf0",
   "metadata": {},
   "source": [
    "Loading Data"
   ]
  },
  {
   "cell_type": "code",
   "execution_count": 2,
   "id": "45fe53de",
   "metadata": {},
   "outputs": [],
   "source": [
    "df = pd.read_csv(\"mobilepricedata.csv\")"
   ]
  },
  {
   "cell_type": "code",
   "execution_count": 3,
   "id": "69f8bd7e",
   "metadata": {},
   "outputs": [
    {
     "data": {
      "text/html": [
       "<div>\n",
       "<style scoped>\n",
       "    .dataframe tbody tr th:only-of-type {\n",
       "        vertical-align: middle;\n",
       "    }\n",
       "\n",
       "    .dataframe tbody tr th {\n",
       "        vertical-align: top;\n",
       "    }\n",
       "\n",
       "    .dataframe thead th {\n",
       "        text-align: right;\n",
       "    }\n",
       "</style>\n",
       "<table border=\"1\" class=\"dataframe\">\n",
       "  <thead>\n",
       "    <tr style=\"text-align: right;\">\n",
       "      <th></th>\n",
       "      <th>Name</th>\n",
       "      <th>Brand_Name</th>\n",
       "      <th>Processor</th>\n",
       "      <th>BrandCategory</th>\n",
       "      <th>ProcessorCategory</th>\n",
       "      <th>Rating</th>\n",
       "      <th>Numbe_of_Ratings</th>\n",
       "      <th>Number_of_Reviews</th>\n",
       "      <th>RAM</th>\n",
       "      <th>ROM</th>\n",
       "      <th>Diplay_Size</th>\n",
       "      <th>Back_Camera</th>\n",
       "      <th>Front_Camera</th>\n",
       "      <th>Battery</th>\n",
       "      <th>Price</th>\n",
       "      <th>Price_Range</th>\n",
       "    </tr>\n",
       "  </thead>\n",
       "  <tbody>\n",
       "    <tr>\n",
       "      <th>0</th>\n",
       "      <td>Redmi Note 4 (Black, 64 GB)</td>\n",
       "      <td>Redmi</td>\n",
       "      <td>Snapdragon</td>\n",
       "      <td>10</td>\n",
       "      <td>5</td>\n",
       "      <td>4.4</td>\n",
       "      <td>1341712.0</td>\n",
       "      <td>211542.0</td>\n",
       "      <td>4</td>\n",
       "      <td>64</td>\n",
       "      <td>5.5</td>\n",
       "      <td>13.0</td>\n",
       "      <td>5.0</td>\n",
       "      <td>4100</td>\n",
       "      <td>12749</td>\n",
       "      <td>1</td>\n",
       "    </tr>\n",
       "    <tr>\n",
       "      <th>1</th>\n",
       "      <td>Redmi Note 4 (Dark Grey, 64 GB)</td>\n",
       "      <td>Redmi</td>\n",
       "      <td>Snapdragon</td>\n",
       "      <td>10</td>\n",
       "      <td>5</td>\n",
       "      <td>4.4</td>\n",
       "      <td>1341712.0</td>\n",
       "      <td>211542.0</td>\n",
       "      <td>4</td>\n",
       "      <td>64</td>\n",
       "      <td>5.5</td>\n",
       "      <td>13.0</td>\n",
       "      <td>5.0</td>\n",
       "      <td>4100</td>\n",
       "      <td>12749</td>\n",
       "      <td>1</td>\n",
       "    </tr>\n",
       "    <tr>\n",
       "      <th>2</th>\n",
       "      <td>Redmi Note 4 (Gold, 64 GB)</td>\n",
       "      <td>Redmi</td>\n",
       "      <td>Snapdragon</td>\n",
       "      <td>10</td>\n",
       "      <td>5</td>\n",
       "      <td>4.4</td>\n",
       "      <td>1341712.0</td>\n",
       "      <td>211542.0</td>\n",
       "      <td>4</td>\n",
       "      <td>64</td>\n",
       "      <td>5.5</td>\n",
       "      <td>13.0</td>\n",
       "      <td>5.0</td>\n",
       "      <td>4100</td>\n",
       "      <td>12749</td>\n",
       "      <td>1</td>\n",
       "    </tr>\n",
       "  </tbody>\n",
       "</table>\n",
       "</div>"
      ],
      "text/plain": [
       "                              Name Brand_Name   Processor  BrandCategory  \\\n",
       "0      Redmi Note 4 (Black, 64 GB)      Redmi  Snapdragon             10   \n",
       "1  Redmi Note 4 (Dark Grey, 64 GB)      Redmi  Snapdragon             10   \n",
       "2       Redmi Note 4 (Gold, 64 GB)      Redmi  Snapdragon             10   \n",
       "\n",
       "   ProcessorCategory  Rating  Numbe_of_Ratings  Number_of_Reviews  RAM  ROM  \\\n",
       "0                  5     4.4         1341712.0           211542.0    4   64   \n",
       "1                  5     4.4         1341712.0           211542.0    4   64   \n",
       "2                  5     4.4         1341712.0           211542.0    4   64   \n",
       "\n",
       "   Diplay_Size  Back_Camera  Front_Camera  Battery  Price  Price_Range  \n",
       "0          5.5         13.0           5.0     4100  12749            1  \n",
       "1          5.5         13.0           5.0     4100  12749            1  \n",
       "2          5.5         13.0           5.0     4100  12749            1  "
      ]
     },
     "execution_count": 3,
     "metadata": {},
     "output_type": "execute_result"
    }
   ],
   "source": [
    "# data information\n",
    "df.head(3)"
   ]
  },
  {
   "cell_type": "markdown",
   "id": "af2214b4",
   "metadata": {},
   "source": [
    "Brand Categories are labbled as \n",
    "Brand Name: Apple Asus Google Infinix Xiaomi Motorola OnePlus\n",
    "Number     : 0     1     2      3       4      5         6"
   ]
  },
  {
   "cell_type": "code",
   "execution_count": 4,
   "id": "ecb3ea33",
   "metadata": {},
   "outputs": [
    {
     "data": {
      "text/plain": [
       "array([10,  9,  5,  4,  1,  3, 13,  8, 11,  0,  7, 12,  2,  6],\n",
       "      dtype=int64)"
      ]
     },
     "execution_count": 4,
     "metadata": {},
     "output_type": "execute_result"
    }
   ],
   "source": [
    "df.BrandCategory.unique()"
   ]
  },
  {
   "cell_type": "code",
   "execution_count": 5,
   "id": "d728cea0",
   "metadata": {},
   "outputs": [
    {
     "data": {
      "text/plain": [
       "array([1, 0, 2, 3, 4, 7, 8, 5, 6], dtype=int64)"
      ]
     },
     "execution_count": 5,
     "metadata": {},
     "output_type": "execute_result"
    }
   ],
   "source": [
    "df.Price_Range.unique()"
   ]
  },
  {
   "cell_type": "code",
   "execution_count": 6,
   "id": "2c83b008",
   "metadata": {},
   "outputs": [
    {
     "name": "stdout",
     "output_type": "stream",
     "text": [
      "<class 'pandas.core.frame.DataFrame'>\n",
      "RangeIndex: 2190 entries, 0 to 2189\n",
      "Data columns (total 16 columns):\n",
      " #   Column             Non-Null Count  Dtype  \n",
      "---  ------             --------------  -----  \n",
      " 0   Name               2190 non-null   object \n",
      " 1   Brand_Name         2190 non-null   object \n",
      " 2   Processor          2190 non-null   object \n",
      " 3   BrandCategory      2190 non-null   int64  \n",
      " 4   ProcessorCategory  2190 non-null   int64  \n",
      " 5   Rating             2190 non-null   float64\n",
      " 6   Numbe_of_Ratings   2190 non-null   float64\n",
      " 7   Number_of_Reviews  2190 non-null   float64\n",
      " 8   RAM                2190 non-null   int64  \n",
      " 9   ROM                2190 non-null   int64  \n",
      " 10  Diplay_Size        2190 non-null   float64\n",
      " 11  Back_Camera        2190 non-null   float64\n",
      " 12  Front_Camera       2190 non-null   float64\n",
      " 13  Battery            2190 non-null   int64  \n",
      " 14  Price              2190 non-null   int64  \n",
      " 15  Price_Range        2190 non-null   int64  \n",
      "dtypes: float64(6), int64(7), object(3)\n",
      "memory usage: 273.9+ KB\n"
     ]
    }
   ],
   "source": [
    "df.info()"
   ]
  },
  {
   "cell_type": "markdown",
   "id": "6a2c8a55",
   "metadata": {},
   "source": [
    "Dropping Features"
   ]
  },
  {
   "cell_type": "code",
   "execution_count": 7,
   "id": "c2eaecaf",
   "metadata": {},
   "outputs": [],
   "source": [
    "y=df.Price_Range"
   ]
  },
  {
   "cell_type": "code",
   "execution_count": 8,
   "id": "55026abb",
   "metadata": {},
   "outputs": [],
   "source": [
    "x=df.drop(['Name','Brand_Name','Processor','Number_of_Reviews',\"Price_Range\",\"Price\"],axis=1)"
   ]
  },
  {
   "cell_type": "markdown",
   "id": "21afeedd",
   "metadata": {},
   "source": [
    "Splitting Data (Test , Train)"
   ]
  },
  {
   "cell_type": "code",
   "execution_count": 9,
   "id": "3a671b41",
   "metadata": {},
   "outputs": [
    {
     "name": "stdout",
     "output_type": "stream",
     "text": [
      "(1752, 10)\n",
      "(1752,)\n"
     ]
    }
   ],
   "source": [
    "from sklearn.model_selection import train_test_split\n",
    "x_train,x_test,y_train,y_test=train_test_split(x,y,test_size=0.2)\n",
    "print(x_train.shape)\n",
    "print(y_train.shape)"
   ]
  },
  {
   "cell_type": "markdown",
   "id": "ddf89ed9",
   "metadata": {},
   "source": [
    "Fitting KNN Model"
   ]
  },
  {
   "cell_type": "code",
   "execution_count": 47,
   "id": "dbd749eb",
   "metadata": {},
   "outputs": [
    {
     "data": {
      "text/plain": [
       "KNeighborsClassifier(n_neighbors=3)"
      ]
     },
     "execution_count": 47,
     "metadata": {},
     "output_type": "execute_result"
    }
   ],
   "source": [
    "from sklearn.neighbors import KNeighborsClassifier\n",
    "knn=KNeighborsClassifier(n_neighbors=3)\n",
    "knn.fit(x_train,y_train)"
   ]
  },
  {
   "cell_type": "markdown",
   "id": "8aba0456",
   "metadata": {},
   "source": [
    "Checking Accuracy Score of KNN"
   ]
  },
  {
   "cell_type": "code",
   "execution_count": 48,
   "id": "e3458a41",
   "metadata": {},
   "outputs": [
    {
     "data": {
      "text/plain": [
       "0.6164383561643836"
      ]
     },
     "execution_count": 48,
     "metadata": {},
     "output_type": "execute_result"
    }
   ],
   "source": [
    "y_pred_knn=knn.predict(x_test)\n",
    "from sklearn.metrics import accuracy_score\n",
    "accuracy_score(y_test,y_pred_knn)"
   ]
  },
  {
   "cell_type": "markdown",
   "id": "2542595e",
   "metadata": {},
   "source": [
    "Heat map and Confusion Matrix"
   ]
  },
  {
   "cell_type": "code",
   "execution_count": 49,
   "id": "ddd57c0b",
   "metadata": {},
   "outputs": [
    {
     "data": {
      "text/plain": [
       "<AxesSubplot:>"
      ]
     },
     "execution_count": 49,
     "metadata": {},
     "output_type": "execute_result"
    },
    {
     "data": {
      "image/png": "[encoded data removed]",
      "text/plain": [
       "<Figure size 432x288 with 2 Axes>"
      ]
     },
     "metadata": {
      "needs_background": "light"
     },
     "output_type": "display_data"
    }
   ],
   "source": [
    "import seaborn as sns\n",
    "from sklearn.metrics import confusion_matrix\n",
    "cm=confusion_matrix(y_test,y_pred_knn)\n",
    "sns.heatmap(cm,annot=True,fmt='d')  # here annot = True means we want to display the values with fmt = 'd' means integer format"
   ]
  },
  {
   "cell_type": "code",
   "execution_count": 75,
   "id": "cc7ae39e",
   "metadata": {},
   "outputs": [
    {
     "data": {
      "image/png": "[encoded data removed]",
      "text/plain": [
       "<Figure size 432x288 with 2 Axes>"
      ]
     },
     "metadata": {
      "needs_background": "light"
     },
     "output_type": "display_data"
    }
   ],
   "source": [
    "plt.imshow(cm, cmap='hot')\n",
    "\n",
    "# Add a colorbar for reference\n",
    "plt.colorbar()\n",
    "# Add numbers as annotations\n",
    "for i in range(cm.shape[0]):\n",
    "    for j in range(cm.shape[1]):\n",
    "        plt.text(j, i, f'{cm[i, j]:d}', ha='center', va='center' ,color='blue')\n",
    "\n",
    "# Set the axis labels\n",
    "# Show the plot\n",
    "plt.show()"
   ]
  },
  {
   "cell_type": "markdown",
   "id": "30eb0c46",
   "metadata": {},
   "source": [
    "Initializing PCA"
   ]
  },
  {
   "cell_type": "code",
   "execution_count": 50,
   "id": "fc77edae",
   "metadata": {},
   "outputs": [],
   "source": [
    "from sklearn.decomposition import PCA\n",
    "pca=PCA(n_components=2)"
   ]
  },
  {
   "cell_type": "code",
   "execution_count": 51,
   "id": "b5d8d546",
   "metadata": {},
   "outputs": [
    {
     "data": {
      "text/plain": [
       "array([9.9995366e-01, 4.5447712e-05])"
      ]
     },
     "execution_count": 51,
     "metadata": {},
     "output_type": "execute_result"
    }
   ],
   "source": [
    "pca.fit(x_train)\n",
    "x_pca=pca.transform(x_train)\n",
    "explained_variance=pca.explained_variance_ratio_\n",
    "explained_variance"
   ]
  },
  {
   "cell_type": "markdown",
   "id": "c97ebf88",
   "metadata": {},
   "source": [
    "Cluster Figure using PCA"
   ]
  },
  {
   "cell_type": "code",
   "execution_count": 52,
   "id": "aeafb7b4",
   "metadata": {},
   "outputs": [],
   "source": [
    "import matplotlib.pyplot as plt\n",
    "from sklearn import (manifold, datasets)"
   ]
  },
  {
   "cell_type": "code",
   "execution_count": 54,
   "id": "65df01d3",
   "metadata": {},
   "outputs": [
    {
     "data": {
      "text/plain": [
       "<matplotlib.legend.Legend at 0x12cd5c1dee0>"
      ]
     },
     "execution_count": 54,
     "metadata": {},
     "output_type": "execute_result"
    },
    {
     "data": {
      "text/plain": [
       "<Figure size 576x432 with 0 Axes>"
      ]
     },
     "metadata": {},
     "output_type": "display_data"
    },
    {
     "data": {
      "image/png": "[encoded data removed]",
      "text/plain": [
       "<Figure size 432x288 with 1 Axes>"
      ]
     },
     "metadata": {
      "needs_background": "light"
     },
     "output_type": "display_data"
    }
   ],
   "source": [
    "plt.figure(figsize=(8,6))\n",
    "fig, ax = plt.subplots() # this create the ractangular box \n",
    "\n",
    " # c=y_train : This parameter specifies the colors for the points in the scatter plot.\n",
    " #cmap='tab10': This parameter determines the colormap to be used for mapping the labels to colors.\n",
    "#In this case, 'tab10' is the name of the colormap that provides a set of distinct colors suitable for categorical data.   \n",
    "sc=plt.scatter(x_pca[:,0],x_pca[:,1],c=y_train,cmap='tab10') \n",
    "plt.xlabel('First principal component')\n",
    "plt.ylabel('Second principal component')\n",
    "ax.legend(*sc.legend_elements(), title='Clusters')"
   ]
  },
  {
   "cell_type": "markdown",
   "id": "0d72dd7c",
   "metadata": {},
   "source": [
    "Fitting KNN using PCA"
   ]
  },
  {
   "cell_type": "code",
   "execution_count": 56,
   "id": "48c80aa0",
   "metadata": {},
   "outputs": [
    {
     "data": {
      "text/plain": [
       "KNeighborsClassifier(n_neighbors=3)"
      ]
     },
     "execution_count": 56,
     "metadata": {},
     "output_type": "execute_result"
    }
   ],
   "source": [
    "knn.fit(x_pca,y_train)"
   ]
  },
  {
   "cell_type": "markdown",
   "id": "6ddc9c7a",
   "metadata": {},
   "source": [
    "Checking Accuracy Score of KNN by using PCA"
   ]
  },
  {
   "cell_type": "code",
   "execution_count": 57,
   "id": "aad69abd",
   "metadata": {},
   "outputs": [],
   "source": [
    "x_test_pca=pca.transform(x_test)\n",
    "y_pred_pca=knn.predict(x_test_pca)"
   ]
  },
  {
   "cell_type": "code",
   "execution_count": 58,
   "id": "c8909bb9",
   "metadata": {},
   "outputs": [
    {
     "data": {
      "text/plain": [
       "0.591324200913242"
      ]
     },
     "execution_count": 58,
     "metadata": {},
     "output_type": "execute_result"
    }
   ],
   "source": [
    "accuracy_score(y_test,y_pred_pca)"
   ]
  },
  {
   "cell_type": "markdown",
   "id": "182c6a7f",
   "metadata": {},
   "source": [
    "Heat map and Confusion Matrix using PCA"
   ]
  },
  {
   "cell_type": "code",
   "execution_count": 59,
   "id": "0aa64294",
   "metadata": {},
   "outputs": [
    {
     "data": {
      "text/plain": [
       "<AxesSubplot:>"
      ]
     },
     "execution_count": 59,
     "metadata": {},
     "output_type": "execute_result"
    },
    {
     "data": {
      "image/png": "[encoded data removed]",
      "text/plain": [
       "<Figure size 432x288 with 2 Axes>"
      ]
     },
     "metadata": {
      "needs_background": "light"
     },
     "output_type": "display_data"
    }
   ],
   "source": [
    "cm=confusion_matrix(y_test,y_pred_pca)\n",
    "sns.heatmap(cm,annot=True,fmt='g')"
   ]
  },
  {
   "cell_type": "markdown",
   "id": "d2c81f42",
   "metadata": {},
   "source": [
    "Initializing LDA"
   ]
  },
  {
   "cell_type": "code",
   "execution_count": 60,
   "id": "3c615bae",
   "metadata": {},
   "outputs": [],
   "source": [
    "from sklearn.discriminant_analysis import LinearDiscriminantAnalysis\n",
    "lda= LinearDiscriminantAnalysis(n_components=2)\n",
    "x_lda=lda.fit_transform(x_train,y_train)\n",
    "x_test_lda=lda.transform(x_test)"
   ]
  },
  {
   "cell_type": "markdown",
   "id": "bebb7897",
   "metadata": {},
   "source": [
    "Fitting KNN using LDA"
   ]
  },
  {
   "cell_type": "code",
   "execution_count": 61,
   "id": "dfc49eee",
   "metadata": {},
   "outputs": [
    {
     "data": {
      "text/plain": [
       "KNeighborsClassifier(n_neighbors=3)"
      ]
     },
     "execution_count": 61,
     "metadata": {},
     "output_type": "execute_result"
    }
   ],
   "source": [
    "knn=KNeighborsClassifier(n_neighbors=3)\n",
    "knn.fit(x_lda,y_train)"
   ]
  },
  {
   "cell_type": "markdown",
   "id": "a1977496",
   "metadata": {},
   "source": [
    "Checking Accuracy Score of KNN using LDA\n"
   ]
  },
  {
   "cell_type": "code",
   "execution_count": 62,
   "id": "ced8d277",
   "metadata": {},
   "outputs": [
    {
     "data": {
      "text/plain": [
       "0.634703196347032"
      ]
     },
     "execution_count": 62,
     "metadata": {},
     "output_type": "execute_result"
    }
   ],
   "source": [
    "y_pred_lda=knn.predict(x_test_lda)\n",
    "accuracy_score(y_test,y_pred_lda)"
   ]
  },
  {
   "cell_type": "markdown",
   "id": "c3040c6e",
   "metadata": {},
   "source": [
    "Heat map and Confusion Matrix of KNN using LDA"
   ]
  },
  {
   "cell_type": "code",
   "execution_count": 66,
   "id": "f610a74e",
   "metadata": {},
   "outputs": [
    {
     "data": {
      "text/plain": [
       "<AxesSubplot:>"
      ]
     },
     "execution_count": 66,
     "metadata": {},
     "output_type": "execute_result"
    },
    {
     "data": {
      "image/png": "[encoded data removed]",
      "text/plain": [
       "<Figure size 432x288 with 2 Axes>"
      ]
     },
     "metadata": {
      "needs_background": "light"
     },
     "output_type": "display_data"
    }
   ],
   "source": [
    "cm=confusion_matrix(y_test,y_pred_lda)\n",
    "sns.heatmap(cm,annot=True,fmt='d')"
   ]
  },
  {
   "cell_type": "markdown",
   "id": "2ab9dfe2",
   "metadata": {},
   "source": [
    "# Distributions"
   ]
  },
  {
   "cell_type": "code",
   "execution_count": 67,
   "id": "13c858b2",
   "metadata": {},
   "outputs": [
    {
     "data": {
      "image/png": "[encoded data removed]",
      "text/plain": [
       "<Figure size 1152x288 with 4 Axes>"
      ]
     },
     "metadata": {
      "needs_background": "light"
     },
     "output_type": "display_data"
    }
   ],
   "source": [
    "plt.figure(figsize = (16,4))\n",
    "plt.subplot(1,4,1)\n",
    "sns.barplot(x = 'Price_Range', y = 'Battery', data = df, palette = 'Blues')\n",
    "plt.subplot(1,4,2)\n",
    "sns.barplot(x = 'Price_Range', y = 'ROM',data = df, palette ='Blues')\n",
    "plt.subplot(1,4,3)\n",
    "sns.barplot(x = 'Price_Range', y = 'RAM',data = df, palette ='Blues')\n",
    "plt.subplot(1,4,4)\n",
    "sns.barplot(x = 'Price_Range', y = 'Front_Camera', data = df,palette = 'Blues')\n",
    "plt.show()"
   ]
  }
 ],
 "metadata": {
  "kernelspec": {
   "display_name": "Python 3 (ipykernel)",
   "language": "python",
   "name": "python3"
  },
  "language_info": {
   "codemirror_mode": {
    "name": "ipython",
    "version": 3
   },
   "file_extension": ".py",
   "mimetype": "text/x-python",
   "name": "python",
   "nbconvert_exporter": "python",
   "pygments_lexer": "ipython3",
   "version": "3.9.12"
  }
 },
 "nbformat": 4,
 "nbformat_minor": 5
}
